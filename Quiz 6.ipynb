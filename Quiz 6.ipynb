{
 "cells": [
  {
   "cell_type": "code",
   "execution_count": 32,
   "id": "88832fbf",
   "metadata": {},
   "outputs": [
    {
     "name": "stdout",
     "output_type": "stream",
     "text": [
      "[70.89407557 58.58418005 56.80554361 66.53944307 71.58406909 62.6931938\n",
      " 79.42292595 70.54489216 64.42795704 61.76352555]\n"
     ]
    }
   ],
   "source": [
    "import numpy as np\n",
    "np.random.seed(123)\n",
    "vector = np.random.uniform(50, 80, 10)\n",
    "print(vector)"
   ]
  },
  {
   "cell_type": "code",
   "execution_count": 33,
   "id": "90eb8f4b",
   "metadata": {},
   "outputs": [
    {
     "name": "stdout",
     "output_type": "stream",
     "text": [
      "[[70.89407557 79.42292595]\n",
      " [58.58418005 70.54489216]\n",
      " [56.80554361 64.42795704]\n",
      " [66.53944307 61.76352555]]\n"
     ]
    }
   ],
   "source": [
    "\n",
    "Matrix = np.array([[vector[0], vector[-4]],\n",
    "              [vector[1], vector[-3]],\n",
    "              [vector[2], vector[-2]],\n",
    "              [vector[3], vector[-1]]])\n",
    "\n",
    "print(Matrix)"
   ]
  },
  {
   "cell_type": "code",
   "execution_count": 34,
   "id": "8e7033e6",
   "metadata": {},
   "outputs": [
    {
     "name": "stdout",
     "output_type": "stream",
     "text": [
      "37000.26927615359\n"
     ]
    }
   ],
   "source": [
    "Sumsquares = np.sum((Matrix[0,:]+Matrix[2,:])**2)\n",
    "print(Sumsquares)"
   ]
  },
  {
   "cell_type": "code",
   "execution_count": null,
   "id": "798c05a7",
   "metadata": {},
   "outputs": [],
   "source": []
  },
  {
   "cell_type": "code",
   "execution_count": null,
   "id": "f6eb1eed",
   "metadata": {},
   "outputs": [],
   "source": []
  },
  {
   "cell_type": "code",
   "execution_count": null,
   "id": "3054e1dd",
   "metadata": {},
   "outputs": [],
   "source": []
  },
  {
   "cell_type": "code",
   "execution_count": null,
   "id": "267f2e81",
   "metadata": {},
   "outputs": [],
   "source": []
  },
  {
   "cell_type": "code",
   "execution_count": null,
   "id": "b99b5648",
   "metadata": {},
   "outputs": [],
   "source": []
  },
  {
   "cell_type": "code",
   "execution_count": null,
   "id": "846f9423",
   "metadata": {},
   "outputs": [],
   "source": []
  },
  {
   "cell_type": "code",
   "execution_count": null,
   "id": "a4aea014",
   "metadata": {},
   "outputs": [],
   "source": []
  },
  {
   "cell_type": "code",
   "execution_count": null,
   "id": "563dcbc6",
   "metadata": {},
   "outputs": [],
   "source": []
  },
  {
   "cell_type": "code",
   "execution_count": null,
   "id": "dc59be83",
   "metadata": {},
   "outputs": [],
   "source": []
  },
  {
   "cell_type": "code",
   "execution_count": null,
   "id": "6fc32d26",
   "metadata": {},
   "outputs": [],
   "source": [
    "# 1.\n",
    "#   a. Generate two vectors, each of size 10, with randomly drawn integers lying in between 10 and 20 (including both). [5 marks]\n",
    "#   b. Find the sum of the integers that appear in only one of the above vectors. [5 marks]\n",
    "import numpy as np # Numpy is imported into our workspace and it is referenced as np.\n",
    "A = np.random.randint(10, 21, size=(10)) #We create a vector of size 10 called \"A\" which contains random integers from 10 to 20.\n",
    "B = np.random.randint(10, 21, size=(10)) #We create another vector of size 10 called \"A\" which contains random integers from 10 to 20.\n",
    "#We apply the set function to each vector to get the unique values in each set.\n",
    "setA = set(A)\n",
    "setB = set(B)\n",
    "#We create two vectors containing only the numbers that appear in one of the vectors.\n",
    "OnlyInA = setA - setB\n",
    "OnlyInB = setB - setA\n",
    "#We sum the numbers found to be in only one of the vectos above.\n",
    "SumOnlyOnce = sum(OnlyInA) + sum(OnlyInB)\n",
    "#We print our result.\n",
    "print(SumOnlyOnce)"
   ]
  },
  {
   "cell_type": "code",
   "execution_count": null,
   "id": "ed178fb0",
   "metadata": {},
   "outputs": [],
   "source": [
    "# 2.\n",
    "#   Given the matrix compute the value.\n",
    "\n",
    "A = np.array([[2, -9, 10],\n",
    "              [5, 12, 3],\n",
    "              [2, 8, -2]])\n",
    "\n",
    "# mean of column 2 and mean of row 3\n",
    "mean_col2 = np.mean(A[:,1], axis=0)\n",
    "mean_row3 = np.mean(A[2,:], axis=0)\n",
    "\n",
    "print(mean_col2)\n",
    "print(mean_row3)\n",
    "# result\n",
    "output = np.sum((A[0,0] - mean_col2 + mean_row3)**4)\n",
    "\n",
    "print(output)"
   ]
  }
 ],
 "metadata": {
  "kernelspec": {
   "display_name": "Python 3 (ipykernel)",
   "language": "python",
   "name": "python3"
  },
  "language_info": {
   "codemirror_mode": {
    "name": "ipython",
    "version": 3
   },
   "file_extension": ".py",
   "mimetype": "text/x-python",
   "name": "python",
   "nbconvert_exporter": "python",
   "pygments_lexer": "ipython3",
   "version": "3.9.13"
  }
 },
 "nbformat": 4,
 "nbformat_minor": 5
}
