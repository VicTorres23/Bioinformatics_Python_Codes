{
 "cells": [
  {
   "cell_type": "code",
   "execution_count": 90,
   "id": "e8360bdd",
   "metadata": {},
   "outputs": [
    {
     "name": "stdout",
     "output_type": "stream",
     "text": [
      "91\n"
     ]
    }
   ],
   "source": [
    "# 1.\n",
    "#   a. Generate two vectors, each of size 10, with randomly drawn integers lying in between 10 and 20 (including both). [5 marks]\n",
    "#   b. Find the sum of the integers that appear in only one of the above vectors. [5 marks]\n",
    "import numpy as np # Numpy is imported into our workspace and it is referenced as np.\n",
    "A = np.random.randint(10, 21, size=(10)) #We create a vector of size 10 called \"A\" which contains random integers from 10 to 20.\n",
    "B = np.random.randint(10, 21, size=(10)) #We create another vector of size 10 called \"A\" which contains random integers from 10 to 20.\n",
    "#We apply the set function to each vector to get the unique values in each set.\n",
    "setA = set(A)\n",
    "setB = set(B)\n",
    "#We create two vectors containing only the numbers that appear in one of the vectors.\n",
    "OnlyInA = setA - setB\n",
    "OnlyInB = setB - setA\n",
    "#We sum the numbers found to be in only one of the vectos above.\n",
    "SumOnlyOnce = sum(OnlyInA) + sum(OnlyInB)\n",
    "#We print our result.\n",
    "print(SumOnlyOnce)"
   ]
  },
  {
   "cell_type": "code",
   "execution_count": 91,
   "id": "64a094bc",
   "metadata": {},
   "outputs": [
    {
     "name": "stdout",
     "output_type": "stream",
     "text": [
      "3.6666666666666665\n",
      "2.6666666666666665\n",
      "1.0\n"
     ]
    }
   ],
   "source": [
    "# 2.\n",
    "#   Given the matrix compute the value.\n",
    "\n",
    "A = np.array([[2, -9, 10],\n",
    "              [5, 12, 3],\n",
    "              [2, 8, -2]])\n",
    "\n",
    "# mean of column 2 and mean of row 3\n",
    "mean_col2 = np.mean(A[:,1], axis=0)\n",
    "mean_row3 = np.mean(A[2,:], axis=0)\n",
    "\n",
    "print(mean_col2)\n",
    "print(mean_row3)\n",
    "# result\n",
    "output = np.sum((A[0,0] - mean_col2 + mean_row3)**4)\n",
    "\n",
    "print(output)"
   ]
  },
  {
   "cell_type": "code",
   "execution_count": null,
   "id": "b9530c3e",
   "metadata": {},
   "outputs": [],
   "source": []
  }
 ],
 "metadata": {
  "kernelspec": {
   "display_name": "Python 3 (ipykernel)",
   "language": "python",
   "name": "python3"
  },
  "language_info": {
   "codemirror_mode": {
    "name": "ipython",
    "version": 3
   },
   "file_extension": ".py",
   "mimetype": "text/x-python",
   "name": "python",
   "nbconvert_exporter": "python",
   "pygments_lexer": "ipython3",
   "version": "3.9.13"
  }
 },
 "nbformat": 4,
 "nbformat_minor": 5
}
