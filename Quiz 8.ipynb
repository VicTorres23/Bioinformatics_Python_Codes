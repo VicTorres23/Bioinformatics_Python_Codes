{
 "cells": [
  {
   "cell_type": "code",
   "execution_count": 39,
   "id": "9f56d858",
   "metadata": {},
   "outputs": [
    {
     "name": "stdout",
     "output_type": "stream",
     "text": [
      "What's\n",
      "911\n",
      "Charley\n"
     ]
    }
   ],
   "source": [
    "import re\n",
    "txt = \"What's the number for 911, Charley?\"\n",
    "splittedtxt = txt.split(\" \")\n",
    "for word in splittedtxt:\n",
    "    if re.search(r\"[A-Z]\", word):\n",
    "        word = re.sub(\"\\?\", \"\", word)\n",
    "        print(word)\n",
    "    if re.search(r\"[0-9]\", word):\n",
    "        word = re.sub(\",\", \"\", word)\n",
    "        print(word)"
   ]
  },
  {
   "cell_type": "code",
   "execution_count": 40,
   "id": "db52599c",
   "metadata": {},
   "outputs": [
    {
     "name": "stdout",
     "output_type": "stream",
     "text": [
      "What's\n",
      "911\n",
      "Charley\n"
     ]
    }
   ],
   "source": [
    "import re\n",
    "txt = \"What's the number for 911, Charley?\"\n",
    "splittedtxt = txt.split(\" \")\n",
    "for word in splittedtxt:\n",
    "    if re.search(r\"[A-Z/0-9]\", word):\n",
    "        word = re.sub(\"\\?\", \"\", word)\n",
    "        word = re.sub(\",\", \"\", word)\n",
    "        print(word)"
   ]
  },
  {
   "cell_type": "code",
   "execution_count": null,
   "id": "b6199fff",
   "metadata": {},
   "outputs": [],
   "source": []
  }
 ],
 "metadata": {
  "kernelspec": {
   "display_name": "Python 3 (ipykernel)",
   "language": "python",
   "name": "python3"
  },
  "language_info": {
   "codemirror_mode": {
    "name": "ipython",
    "version": 3
   },
   "file_extension": ".py",
   "mimetype": "text/x-python",
   "name": "python",
   "nbconvert_exporter": "python",
   "pygments_lexer": "ipython3",
   "version": "3.9.13"
  }
 },
 "nbformat": 4,
 "nbformat_minor": 5
}
