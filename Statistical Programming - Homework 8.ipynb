{
 "cells": [
  {
   "cell_type": "code",
   "execution_count": 16,
   "id": "4f8a008b",
   "metadata": {},
   "outputs": [
    {
     "name": "stdout",
     "output_type": "stream",
     "text": [
      "The number of uppercase letters in the string is: 2\n",
      "The number of lowercase letters in the string is: 58\n",
      "The number of digits in the string is: 0\n",
      "The number of spaces in the string is: 13\n",
      "The number of special charachters in the string is: 4\n"
     ]
    }
   ],
   "source": [
    "# 1.\n",
    "# Write a Python function that takes a string as input and returns the number of uppercase letters,\n",
    "# lowercase letters, digits, spaces, and special characters (i.e., everything else) in the string. Test the\n",
    "# function on the following string and print the 5 numbers:\n",
    "# Don’t practice until you get it right. Practice until you can’t get it wrong.\n",
    "import re\n",
    "def CountChar(string):\n",
    "    Upper = len(re.findall(r\"[A-Z]\", string))\n",
    "    Lower = len(re.findall(r\"[a-z]\", string))\n",
    "    Digits = len(re.findall(r\"[0-9]\", string))\n",
    "    Spaces = len(re.findall(r\"\\s\", string))\n",
    "    Special = len(re.findall(r\"[^\\w\\s]\", string))\n",
    "    print(\"The number of uppercase letters in the string is: \" + str(Upper))\n",
    "    print(\"The number of lowercase letters in the string is: \" + str(Lower))\n",
    "    print(\"The number of digits in the string is: \" + str(Digits))\n",
    "    print(\"The number of spaces in the string is: \" + str(Spaces))\n",
    "    print(\"The number of special charachters in the string is: \" + str(Special))\n",
    "string1 = \"Don’t practice until you get it right. Practice until you can’t get it wrong.\"\n",
    "CountChar(string1)"
   ]
  },
  {
   "cell_type": "code",
   "execution_count": 5,
   "id": "e04f1780",
   "metadata": {},
   "outputs": [],
   "source": [
    "# 2.\n",
    "# Make a python list with names, years of release, genres (pick a genre), languages (can be in any\n",
    "# language), and budgets (in USD, use internet to find) of 10 of your favorite movies. Write a function that \n",
    "# takes the above list as argument and writes two files—one .txt file showing the names of the movies \n",
    "# classified into genre-by-language groups, and one .csv file showing the mean budget for each genre-by-\n",
    "# language group with self-explanatory row-names.\n",
    "\n",
    "import pandas as pd\n",
    "\n",
    "myFavoriteMovies = [[\"Spirited Away\", 2001, \"Anime\", \"Japanese\", 19000000], [\"Avengers: Infinity War\", 2018, \"Action\", \"English\", 316000000], [\"The Thing\", 1982, \"Horror\", \"English\", 15000000], [\"Django: Unchained\", 2015, \"Western\", \"English\", 100000000], [\"War of the Worlds\", 2005, \"Sci-Fi\", \"English\", 132000000], [\"Howl's Moving Castle\", 2004, \"Anime\", \"Japanese\", 24000000], [\"Cloverfield\", 2008, \"Horror\", \"English\", 25000000], [\"The Imitation Game\", 2014, \"War\", \"English\", 14000000], [\"The Pianist\", 2002, \"Drama\", \"English\", 35000000], [\"Fury\", 2014, \"War\", \"English\", 68000000]]\n",
    "\n",
    "def groupFiles(listOfMovies):\n",
    "    df = pd.DataFrame(listOfMovies, columns=[\"Name\", \"Year\", \"Genre\", \"Language\", \"Budget\"])\n",
    "    grouped_list = []\n",
    "    grouped_budget = []\n",
    "    grouped = df.groupby([\"Genre\", \"Language\"])\n",
    "    for (genre, language), movies in grouped:\n",
    "        for movie_name in movies[\"Name\"]:\n",
    "            grouped_list.append([movie_name, genre, language])\n",
    "        grouped_df = pd.DataFrame(grouped_list, columns=[\"Name\", \"Genre\", \"Language\"])\n",
    "        grouped_df.to_csv(\"Movies_Grouped_By_Genre_Language.txt\", index=False)\n",
    "        \n",
    "        mean_budget = movies[\"Budget\"].mean()\n",
    "        grouped_budget.append([mean_budget, genre, language])\n",
    "    grouped_df_budget = pd.DataFrame(grouped_budget, columns=[\"Mean_Budget\", \"Genre\", \"Language\"])\n",
    "    grouped_df_budget.to_csv(\"Movies_Grouped_By_Genre_Language.csv\", index=False)\n",
    "\n",
    "groupFiles(myFavoriteMovies)"
   ]
  },
  {
   "cell_type": "code",
   "execution_count": null,
   "id": "0f194cb1",
   "metadata": {},
   "outputs": [],
   "source": []
  }
 ],
 "metadata": {
  "kernelspec": {
   "display_name": "Python 3 (ipykernel)",
   "language": "python",
   "name": "python3"
  },
  "language_info": {
   "codemirror_mode": {
    "name": "ipython",
    "version": 3
   },
   "file_extension": ".py",
   "mimetype": "text/x-python",
   "name": "python",
   "nbconvert_exporter": "python",
   "pygments_lexer": "ipython3",
   "version": "3.9.13"
  }
 },
 "nbformat": 4,
 "nbformat_minor": 5
}
